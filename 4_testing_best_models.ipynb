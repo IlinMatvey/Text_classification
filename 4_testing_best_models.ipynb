{
 "cells": [
  {
   "cell_type": "markdown",
   "metadata": {},
   "source": [
    "## Код для тестирования моделей"
   ]
  },
  {
   "cell_type": "markdown",
   "metadata": {},
   "source": [
    "#### Импортирование необходимых библиотек"
   ]
  },
  {
   "cell_type": "code",
   "execution_count": null,
   "metadata": {},
   "outputs": [],
   "source": [
    "import numpy as np\n",
    "import pandas as pd\n",
    "from tqdm import tqdm\n",
    "import warnings\n",
    "from keras.models import load_model\n",
    "from sentence_transformers import SentenceTransformer\n",
    "from sklearn.metrics import accuracy_score, precision_score, recall_score, f1_score, classification_report"
   ]
  },
  {
   "cell_type": "markdown",
   "metadata": {},
   "source": [
    "### Код для тестирования best_model\n",
    "P.s. необходимо запустить данный блок если вы хотите протестировать наилучшую по качеству модель"
   ]
  },
  {
   "cell_type": "code",
   "execution_count": null,
   "metadata": {},
   "outputs": [],
   "source": [
    "warnings.filterwarnings(\"ignore\")\n",
    "\n",
    "df = pd.read_csv('test.csv')\n",
    "df = df.rename(columns={'Description': 'text'})\n",
    "\n",
    "embedding_model = SentenceTransformer(\"all-mpnet-base-v2\")\n",
    "\n",
    "def get_sentence_embedding(model, text):\n",
    "    embeddings = model.encode([text])  \n",
    "    return embeddings[0]\n",
    "\n",
    "tqdm.pandas() \n",
    "df['embedddings'] = df['text'].progress_apply(lambda text: get_sentence_embedding(embedding_model, text))\n",
    "\n",
    "loaded_model = load_model('best_model.h5')\n",
    "\n",
    "X_test = np.array(df['embedddings'].to_list())\n",
    "y_test = np.array(df['Label'])\n",
    "y_pred_categorical = loaded_model.predict(X_test)\n",
    "y_pred = y_pred_categorical.argmax(axis=1)\n",
    "report = classification_report(y_test, y_pred)\n",
    "accuracy = accuracy_score(y_test, y_pred)\n",
    "\n",
    "print(\"Отчет по каждому классу:\")\n",
    "print(report)\n",
    "\n",
    "accuracy = accuracy_score(y_test, y_pred)\n",
    "precision = precision_score(y_test, y_pred, average='macro')\n",
    "recall = recall_score(y_test, y_pred, average='macro')\n",
    "f1 = f1_score(y_test, y_pred, average='macro')\n",
    "\n",
    "print(\"Метрика         | Значение\")\n",
    "print(\"--------------------------\")\n",
    "print(f\"Accuracy        | {accuracy:.4f}\")\n",
    "print(f\"Precision macro | {precision:.4f}\")\n",
    "print(f\"Recall macro    | {recall:.4f}\")\n",
    "print(f\"F1-score macro  | {f1:.4f}\")\n"
   ]
  },
  {
   "cell_type": "markdown",
   "metadata": {},
   "source": [
    "### Код для тестирования fast_model\n",
    "P.s. необходимо запустить данный блок если вы хотите протестировать оптимальную по качеству и скорости модель"
   ]
  },
  {
   "cell_type": "code",
   "execution_count": null,
   "metadata": {},
   "outputs": [],
   "source": [
    "warnings.filterwarnings(\"ignore\")\n",
    "\n",
    "df = pd.read_csv('test.csv')\n",
    "df = df.rename(columns={'Description': 'text'})\n",
    "\n",
    "embedding_model = SentenceTransformer(\"all-MiniLM-L6-v2\")\n",
    "\n",
    "def get_sentence_embedding(model, text):\n",
    "    embeddings = model.encode([text])  \n",
    "    return embeddings[0]\n",
    "\n",
    "tqdm.pandas() \n",
    "df['embedddings'] = df['text'].progress_apply(lambda text: get_sentence_embedding(embedding_model, text))\n",
    "\n",
    "loaded_model = load_model('fast_model.h5')\n",
    "\n",
    "X_test = np.array(df['embedddings'].to_list())\n",
    "y_test = np.array(df['Label'])\n",
    "y_pred_categorical = loaded_model.predict(X_test)\n",
    "y_pred = y_pred_categorical.argmax(axis=1)\n",
    "report = classification_report(y_test, y_pred)\n",
    "accuracy = accuracy_score(y_test, y_pred)\n",
    "\n",
    "print(\"Отчет по каждому классу:\")\n",
    "print(report)\n",
    "\n",
    "accuracy = accuracy_score(y_test, y_pred)\n",
    "precision = precision_score(y_test, y_pred, average='macro')\n",
    "recall = recall_score(y_test, y_pred, average='macro')\n",
    "f1 = f1_score(y_test, y_pred, average='macro')\n",
    "\n",
    "print(\"Метрика         | Значение\")\n",
    "print(\"--------------------------\")\n",
    "print(f\"Accuracy        | {accuracy:.4f}\")\n",
    "print(f\"Precision macro | {precision:.4f}\")\n",
    "print(f\"Recall macro    | {recall:.4f}\")\n",
    "print(f\"F1-score macro  | {f1:.4f}\")"
   ]
  }
 ],
 "metadata": {
  "kernelspec": {
   "display_name": "Python 3",
   "language": "python",
   "name": "python3"
  },
  "language_info": {
   "codemirror_mode": {
    "name": "ipython",
    "version": 3
   },
   "file_extension": ".py",
   "mimetype": "text/x-python",
   "name": "python",
   "nbconvert_exporter": "python",
   "pygments_lexer": "ipython3",
   "version": "3.11.8"
  }
 },
 "nbformat": 4,
 "nbformat_minor": 2
}

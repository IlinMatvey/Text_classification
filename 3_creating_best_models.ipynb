{
 "cells": [
  {
   "cell_type": "markdown",
   "metadata": {},
   "source": [
    "# 3. Обучение лучших моделей"
   ]
  },
  {
   "cell_type": "markdown",
   "metadata": {},
   "source": [
    "#### Импортирование необходимых библиотек"
   ]
  },
  {
   "cell_type": "code",
   "execution_count": null,
   "metadata": {},
   "outputs": [],
   "source": [
    "import numpy as np\n",
    "import pandas as pd\n",
    "import warnings\n",
    "from tensorflow.keras.layers import Dense, Dropout, Activation\n",
    "from tensorflow.keras.models import Sequential\n",
    "from tensorflow.keras.callbacks import EarlyStopping\n",
    "from tensorflow.keras.utils import to_categorical\n",
    "from sklearn.model_selection import KFold"
   ]
  },
  {
   "cell_type": "markdown",
   "metadata": {},
   "source": [
    "#### Загрузка и подготовка данных"
   ]
  },
  {
   "cell_type": "code",
   "execution_count": null,
   "metadata": {},
   "outputs": [],
   "source": [
    "df = pd.read_csv('all_embeddings_text.csv')\n",
    "df_2 = pd.read_csv('all_embeddings_prep_text.csv')\n",
    "\n",
    "columns_to_add = ['1_prep_text', '2_prep_text', '3_prep_text']\n",
    "df = df.join(df_2[columns_to_add])\n",
    "\n",
    "def parse_string_to_list(s):\n",
    "    clean_s = s.strip('[]') \n",
    "    numbers = clean_s.split() \n",
    "    return [float(num) for num in numbers]\n",
    "\n",
    "for i in range(1,4):\n",
    "    df[f'{i}_text'] = df[f'{i}_text'].apply(parse_string_to_list)\n",
    "    df[f'{i}_prep_text'] = df[f'{i}_prep_text'].apply(parse_string_to_list)\n",
    "\n",
    "df['Label'] = df['Label'].astype(int)"
   ]
  },
  {
   "cell_type": "markdown",
   "metadata": {},
   "source": [
    "#### Обучение моделей"
   ]
  },
  {
   "cell_type": "code",
   "execution_count": null,
   "metadata": {},
   "outputs": [],
   "source": [
    "warnings.filterwarnings(\"ignore\")\n",
    "\n",
    "# Количество классов\n",
    "num_classes = 4  \n",
    "\n",
    "for i in range(1, 3):\n",
    "\n",
    "    X_train_val = np.array(df[f'{i}_text'].to_list())\n",
    "    y_train_val = np.array(df['Label'])\n",
    "\n",
    "    n_features = len(X_train_val[0])\n",
    "\n",
    "    model = Sequential()\n",
    "    model.add(Dense(512, input_shape=(n_features,)))\n",
    "    model.add(Activation('relu'))\n",
    "    model.add(Dropout(0.5))\n",
    "    model.add(Dense(num_classes))\n",
    "    model.add(Activation('softmax'))\n",
    "\n",
    "    model.compile(loss='categorical_crossentropy',\n",
    "                    optimizer='adam',\n",
    "                    metrics=['accuracy'])\n",
    "\n",
    "    y_train_val_categorical = to_categorical(y_train_val, num_classes=num_classes)\n",
    "\n",
    "    n_splits = 4\n",
    "    kf = KFold(n_splits=n_splits, shuffle=True, random_state=42)\n",
    "\n",
    "    for fold_idx, (train_idx, val_idx) in enumerate(kf.split(X_train_val, y_train_val)):\n",
    "        print(f\"Training fold {fold_idx + 1}/{n_splits}\")\n",
    "\n",
    "        X_train = X_train_val[train_idx]\n",
    "        y_train = y_train_val_categorical[train_idx]\n",
    "        X_val = X_train_val[val_idx]\n",
    "        y_val = y_train_val_categorical[val_idx]\n",
    "\n",
    "        early_stopping = EarlyStopping(monitor='val_loss', patience=2, restore_best_weights=True)\n",
    "        model.fit(X_train, y_train, validation_data=(X_val, y_val), epochs=10, callbacks=[early_stopping])\n",
    "\n",
    "    if i == 1:\n",
    "        model.save('best_model.h5')\n",
    "    else:\n",
    "        model.save('fast_model.h5')\n",
    "\n"
   ]
  }
 ],
 "metadata": {
  "kernelspec": {
   "display_name": "Python 3",
   "language": "python",
   "name": "python3"
  },
  "language_info": {
   "codemirror_mode": {
    "name": "ipython",
    "version": 3
   },
   "file_extension": ".py",
   "mimetype": "text/x-python",
   "name": "python",
   "nbconvert_exporter": "python",
   "pygments_lexer": "ipython3",
   "version": "3.11.8"
  }
 },
 "nbformat": 4,
 "nbformat_minor": 2
}
